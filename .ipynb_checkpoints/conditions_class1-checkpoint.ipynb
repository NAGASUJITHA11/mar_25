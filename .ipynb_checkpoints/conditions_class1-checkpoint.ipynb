{
 "cells": [
  {
   "cell_type": "markdown",
   "id": "d4dff649-7df2-44f9-ba79-b2d7cac38120",
   "metadata": {},
   "source": [
    "# conditional statements\n",
    "\n",
    "- conditional statements are used to execute the code based on some condition\n",
    "- assume a statement\n",
    "    - if rain comes i will stay at hostel\n",
    "    - if rain comes i will stay at hostel otherwise i will go to play cricket\n",
    "    - if rain comes i will stay at hostel otherwise i will go to ground but if omkar sir call me i will go to nareshit\n",
    "## instead of otherwise else is used\n",
    "\n",
    "-if rain comes i will stay at hostel else i will go to play cricket\n",
    "\n",
    "- **if**\n",
    "- **if-else**\n",
    "- **if-elif-else**\n",
    "\n",
    "case-1: if\n"
   ]
  },
  {
   "cell_type": "code",
   "execution_count": null,
   "id": "ab9a4a52-4bd4-45b7-a8b2-3df40cfc8103",
   "metadata": {},
   "outputs": [],
   "source": [
    "- hai how are you\n",
    "- listen the class properly\n",
    "- chat with chatGPT"
   ]
  },
  {
   "cell_type": "code",
   "execution_count": null,
   "id": "f09f2d29-2dc6-45b6-9052-cd9032673b3d",
   "metadata": {},
   "outputs": [],
   "source": [
    "if <condition>:\n",
    "    # write your code here(some indentation appears at first)\n",
    "\n",
    "\n",
    "# whenever the condition is True\n",
    "# then python will go inside the if area then the lines will be execute"
   ]
  },
  {
   "cell_type": "code",
   "execution_count": null,
   "id": "6f81bf73-37fc-4f42-a160-0202ec2b1aa9",
   "metadata": {},
   "outputs": [],
   "source": [
    "num=10 # assignment 10 is a value stored in a variable name 'num'\n",
    "num==100 #f # condition check num value equal to 10 or not\n",
    "num==10 # t\n",
    "num>10 # f\n",
    "num<10 # f\n",
    "num>=10 # t\n",
    "num<=10 # t\n"
   ]
  },
  {
   "cell_type": "code",
   "execution_count": 5,
   "id": "768cfd72-0ea1-484e-82e8-b8d434bade75",
   "metadata": {},
   "outputs": [
    {
     "name": "stdout",
     "output_type": "stream",
     "text": [
      "False\n",
      "True\n",
      "False\n",
      "False\n",
      "True\n",
      "True\n"
     ]
    }
   ],
   "source": [
    "num=10 # assignment 10 is a value stored in a variable name 'num'\n",
    "print(num==100) #f # condition check num value equal to 10 or not\n",
    "print(num==10) # t\n",
    "print(num>10) # f\n",
    "print(num<10) # f\n",
    "print(num>=10) # t\n",
    "print(num<=10) # t\n"
   ]
  },
  {
   "cell_type": "code",
   "execution_count": 7,
   "id": "d5a3a50d-7388-4fff-b629-19b7e5efabff",
   "metadata": {},
   "outputs": [
    {
     "name": "stdout",
     "output_type": "stream",
     "text": [
      "hello\n"
     ]
    }
   ],
   "source": [
    "if 100>10:\n",
    "    print('hello')\n",
    "\n",
    "# step-1: 100>10  True\n",
    "# step-2: hello"
   ]
  },
  {
   "cell_type": "markdown",
   "id": "890dba17-ec03-452d-81de-735210b78de2",
   "metadata": {},
   "source": [
    "**mistake-1**\n",
    "\n",
    "**indentation error**\n",
    "\n",
    "- whenever a line starts with keyword, atlast colon(:) will be there\n",
    "- whenever colon(:) is there, then we have indentation(space)"
   ]
  },
  {
   "cell_type": "code",
   "execution_count": 12,
   "id": "e52dd4d8-4321-44e0-9c3b-c4d4de617baa",
   "metadata": {},
   "outputs": [
    {
     "name": "stdout",
     "output_type": "stream",
     "text": [
      "hello\n"
     ]
    }
   ],
   "source": [
    "if 100>10:\n",
    "    print('hello')"
   ]
  },
  {
   "cell_type": "code",
   "execution_count": 14,
   "id": "878e5de3-26e4-4257-b6e5-492622ee1fe4",
   "metadata": {},
   "outputs": [
    {
     "ename": "IndentationError",
     "evalue": "expected an indented block after 'if' statement on line 1 (3704969398.py, line 2)",
     "output_type": "error",
     "traceback": [
      "\u001b[1;36m  Cell \u001b[1;32mIn[14], line 2\u001b[1;36m\u001b[0m\n\u001b[1;33m    print('hello')\u001b[0m\n\u001b[1;37m    ^\u001b[0m\n\u001b[1;31mIndentationError\u001b[0m\u001b[1;31m:\u001b[0m expected an indented block after 'if' statement on line 1\n"
     ]
    }
   ],
   "source": [
    "if 100>10:\n",
    "print('hello')"
   ]
  },
  {
   "cell_type": "markdown",
   "id": "73451ad1-2fc1-4251-ab84-ee7ad8c051c0",
   "metadata": {},
   "source": [
    "**mistake-2**\n"
   ]
  },
  {
   "cell_type": "code",
   "execution_count": 17,
   "id": "e5c35943-bae9-4036-83f7-102123e21655",
   "metadata": {},
   "outputs": [
    {
     "ename": "SyntaxError",
     "evalue": "expected ':' (4081822489.py, line 1)",
     "output_type": "error",
     "traceback": [
      "\u001b[1;36m  Cell \u001b[1;32mIn[17], line 1\u001b[1;36m\u001b[0m\n\u001b[1;33m    if 100>10\u001b[0m\n\u001b[1;37m             ^\u001b[0m\n\u001b[1;31mSyntaxError\u001b[0m\u001b[1;31m:\u001b[0m expected ':'\n"
     ]
    }
   ],
   "source": [
    "if 100>10\n",
    "    print('hello')"
   ]
  },
  {
   "cell_type": "code",
   "execution_count": 19,
   "id": "0470a990-0c14-4d8b-9e62-58430b648cb1",
   "metadata": {},
   "outputs": [],
   "source": [
    "if 100<10:\n",
    "    print('hello')\n",
    "\n",
    "# step-1: 100<10  False\n",
    "# if condition is false then there will be no output\n"
   ]
  },
  {
   "cell_type": "code",
   "execution_count": 21,
   "id": "5de6c4fa-a188-4f5a-8e5b-551fa1bb2c49",
   "metadata": {},
   "outputs": [
    {
     "name": "stdout",
     "output_type": "stream",
     "text": [
      "hello\n"
     ]
    }
   ],
   "source": [
    "if True:\n",
    "    print('hello')\n"
   ]
  },
  {
   "cell_type": "code",
   "execution_count": 27,
   "id": "79c1b7ce-adbf-4e08-9382-77d541702e1f",
   "metadata": {},
   "outputs": [],
   "source": [
    "if False:\n",
    "    print('hello')\n"
   ]
  },
  {
   "cell_type": "code",
   "execution_count": 29,
   "id": "3f99dbe3-7853-4341-a751-e3fe4bb5e55a",
   "metadata": {},
   "outputs": [
    {
     "name": "stdout",
     "output_type": "stream",
     "text": [
      "hai\n"
     ]
    }
   ],
   "source": [
    "if bool(100):\n",
    "    print('hai')"
   ]
  },
  {
   "cell_type": "code",
   "execution_count": 31,
   "id": "efbb097b-2e2c-4701-b00e-034418f317de",
   "metadata": {},
   "outputs": [
    {
     "name": "stdout",
     "output_type": "stream",
     "text": [
      "hai\n",
      "hello\n",
      "hello\n"
     ]
    }
   ],
   "source": [
    "if bool(100):\n",
    "    print('hai')\n",
    "\n",
    "if True:\n",
    "    print('hello')\n",
    "\n",
    "\n",
    "if 100>10:\n",
    "    print('hello')"
   ]
  },
  {
   "cell_type": "code",
   "execution_count": 33,
   "id": "7ba02857-f0e1-4f32-be69-d37c2005fa4e",
   "metadata": {},
   "outputs": [
    {
     "name": "stdout",
     "output_type": "stream",
     "text": [
      "hello\n",
      "hai\n"
     ]
    }
   ],
   "source": [
    "if 100>10:\n",
    "    print('hello')\n",
    "    print('hai')"
   ]
  },
  {
   "cell_type": "code",
   "execution_count": 35,
   "id": "299c5d4e-eb99-4996-8f46-84a9a23d7555",
   "metadata": {},
   "outputs": [
    {
     "name": "stdout",
     "output_type": "stream",
     "text": [
      "hello\n",
      "hai\n",
      "bye\n"
     ]
    }
   ],
   "source": [
    "if 100>10:\n",
    "    print('hello')\n",
    "    print('hai')\n",
    "    print('bye')"
   ]
  },
  {
   "cell_type": "code",
   "execution_count": 37,
   "id": "b9b5840d-75d0-4c26-a480-9d42a831c540",
   "metadata": {},
   "outputs": [
    {
     "name": "stdout",
     "output_type": "stream",
     "text": [
      "hello\n",
      "hai\n",
      "bye\n"
     ]
    }
   ],
   "source": [
    "if 100>10:\n",
    "    print('hello')\n",
    "    print('hai')\n",
    "print('bye')"
   ]
  },
  {
   "cell_type": "code",
   "execution_count": 51,
   "id": "840a9e63-b45d-4e71-aed6-c8d76d84c7bc",
   "metadata": {},
   "outputs": [
    {
     "name": "stdout",
     "output_type": "stream",
     "text": [
      "hello\n",
      "hai\n",
      "iam with condition bye\n",
      "hello\n",
      "hai\n",
      "iam without condition bye\n"
     ]
    }
   ],
   "source": [
    "if 100>10:\n",
    "    print('hello')\n",
    "    print('hai')\n",
    "    print('iam with condition bye')     # this print is with condition bye\n",
    "\n",
    "if 100>10:\n",
    "    print('hello')\n",
    "    print('hai')\n",
    "print('iam without condition bye')      # this print is without condition bye"
   ]
  },
  {
   "cell_type": "code",
   "execution_count": 43,
   "id": "de0547ef-f8df-4e58-b53f-12172924743a",
   "metadata": {},
   "outputs": [
    {
     "data": {
      "text/plain": [
       "True"
      ]
     },
     "execution_count": 43,
     "metadata": {},
     "output_type": "execute_result"
    }
   ],
   "source": [
    "100>10   # mask\n",
    "True     #face"
   ]
  },
  {
   "cell_type": "code",
   "execution_count": 45,
   "id": "a20b4df5-aacc-48a9-abcf-0edb493c2df4",
   "metadata": {},
   "outputs": [
    {
     "name": "stdout",
     "output_type": "stream",
     "text": [
      "hello\n",
      "hai\n",
      "bye\n",
      "iam without condition bye\n"
     ]
    }
   ],
   "source": [
    "if 100>10:\n",
    "    print('hello')\n",
    "    print('hai')\n",
    "    print('iam with condition bye')     # this print is with condition bye\n",
    "print(\"iam without condition bye\")"
   ]
  },
  {
   "cell_type": "code",
   "execution_count": 53,
   "id": "19ee8e59-d888-4e08-b3a6-ce05d13cebb1",
   "metadata": {},
   "outputs": [
    {
     "name": "stdout",
     "output_type": "stream",
     "text": [
      "iam without condition bye\n"
     ]
    }
   ],
   "source": [
    "if 100<10:\n",
    "    print('hello')\n",
    "    print('hai')\n",
    "    print('iam with condition bye')     # this print is with condition bye\n",
    "print(\"iam without condition bye\")"
   ]
  },
  {
   "cell_type": "code",
   "execution_count": 49,
   "id": "6a13ffa5-c395-4afc-9411-6e3235bf31bf",
   "metadata": {},
   "outputs": [
    {
     "name": "stdout",
     "output_type": "stream",
     "text": [
      "1\n",
      "2\n",
      "iam without condition bye\n"
     ]
    }
   ],
   "source": [
    "print(1)\n",
    "print(2)\n",
    "if 100<10:\n",
    "    print('hello')\n",
    "    print('hai')\n",
    "    print('iam with condition bye')     # this print is with condition bye\n",
    "print(\"iam without condition bye\")"
   ]
  },
  {
   "cell_type": "code",
   "execution_count": 55,
   "id": "122c34be-9070-488b-9ef2-a9b3bcc11a63",
   "metadata": {},
   "outputs": [
    {
     "name": "stdout",
     "output_type": "stream",
     "text": [
      "hello\n",
      "hai\n",
      "iam with condition bye\n",
      "iam without condition bye\n",
      "1\n",
      "2\n",
      "iam without condition bye\n"
     ]
    }
   ],
   "source": [
    "if 100>10:\n",
    "    print('hello')\n",
    "    print('hai')\n",
    "    print('iam with condition bye')     # this print is with condition bye\n",
    "print(\"iam without condition bye\")\n",
    "print(1)\n",
    "print(2)\n",
    "if 100<10:\n",
    "    print('hello')\n",
    "    print('hai')\n",
    "    print('bye')     # this print is with condition bye\n",
    "print(\"iam without condition bye\")"
   ]
  },
  {
   "cell_type": "code",
   "execution_count": null,
   "id": "3187f86f-1722-406d-a8ad-e1fa8b8ba3e3",
   "metadata": {},
   "outputs": [],
   "source": []
  }
 ],
 "metadata": {
  "kernelspec": {
   "display_name": "Python [conda env:base] *",
   "language": "python",
   "name": "conda-base-py"
  },
  "language_info": {
   "codemirror_mode": {
    "name": "ipython",
    "version": 3
   },
   "file_extension": ".py",
   "mimetype": "text/x-python",
   "name": "python",
   "nbconvert_exporter": "python",
   "pygments_lexer": "ipython3",
   "version": "3.12.7"
  }
 },
 "nbformat": 4,
 "nbformat_minor": 5
}
