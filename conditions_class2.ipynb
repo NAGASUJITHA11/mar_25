{
 "cells": [
  {
   "cell_type": "markdown",
   "id": "5dec5fc1-37b2-41ef-9cc4-08f1f25e6a36",
   "metadata": {},
   "source": [
    "# case-2:if-else"
   ]
  },
  {
   "cell_type": "markdown",
   "id": "8a9ec1e0-5d6c-4894-99f7-24c6b028a95f",
   "metadata": {},
   "source": [
    "- if condition is True then if statements will execute\n",
    "- if condition is False then else statements will execute\n",
    "- one condition two outputs\n",
    "- if needs condition but not else"
   ]
  },
  {
   "cell_type": "code",
   "execution_count": null,
   "id": "0952e69c-820a-4087-aa37-e249b0948179",
   "metadata": {},
   "outputs": [],
   "source": [
    "# syntax\n",
    "if <condition>:\n",
    "    <write your code here>\n",
    "else:\n",
    "    <write your code here>"
   ]
  },
  {
   "cell_type": "code",
   "execution_count": 4,
   "id": "58af902f-2510-49cf-9041-c659982f73b4",
   "metadata": {},
   "outputs": [
    {
     "name": "stdout",
     "output_type": "stream",
     "text": [
      "hello\n"
     ]
    }
   ],
   "source": [
    "print('hello')"
   ]
  },
  {
   "cell_type": "code",
   "execution_count": 6,
   "id": "d04111b3-f193-410f-85a4-2ac55b9010dc",
   "metadata": {},
   "outputs": [
    {
     "name": "stdout",
     "output_type": "stream",
     "text": [
      "hello\n"
     ]
    }
   ],
   "source": [
    "friend='yes'\n",
    "if friend=='yes':   # if 'yes'=='yes'\n",
    "    print('hello')"
   ]
  },
  {
   "cell_type": "code",
   "execution_count": 8,
   "id": "81b33f28-995d-4f4f-8a0f-e7dae5e69357",
   "metadata": {},
   "outputs": [
    {
     "name": "stdout",
     "output_type": "stream",
     "text": [
      "30\n"
     ]
    }
   ],
   "source": [
    "a=10\n",
    "b=20\n",
    "c=a+b\n",
    "print(c)\n"
   ]
  },
  {
   "cell_type": "code",
   "execution_count": 10,
   "id": "d4cf6efc-524f-4307-914c-70df78acfbe6",
   "metadata": {},
   "outputs": [
    {
     "name": "stdout",
     "output_type": "stream",
     "text": [
      "positive number\n"
     ]
    }
   ],
   "source": [
    "if 100>0:\n",
    "    print('positive number')\n",
    "else:\n",
    "    print('negative numbers')"
   ]
  },
  {
   "cell_type": "code",
   "execution_count": 14,
   "id": "e7ce08b8-8983-46b3-8a06-3ecef4d38315",
   "metadata": {},
   "outputs": [],
   "source": [
    "if 2>3:\n",
    "    a=10\n",
    "    b=20\n",
    "    c=a+b\n",
    "    print(c)\n"
   ]
  },
  {
   "cell_type": "code",
   "execution_count": 16,
   "id": "c789ebeb-7131-4adb-840a-bab29cbd399e",
   "metadata": {},
   "outputs": [
    {
     "ename": "NameError",
     "evalue": "name 'n' is not defined",
     "output_type": "error",
     "traceback": [
      "\u001b[1;31m---------------------------------------------------------------------------\u001b[0m",
      "\u001b[1;31mNameError\u001b[0m                                 Traceback (most recent call last)",
      "Cell \u001b[1;32mIn[16], line 1\u001b[0m\n\u001b[1;32m----> 1\u001b[0m \u001b[38;5;28;01mif\u001b[39;00m n\u001b[38;5;241m>\u001b[39m\u001b[38;5;241m0\u001b[39m:\n\u001b[0;32m      2\u001b[0m     \u001b[38;5;28mprint\u001b[39m(\u001b[38;5;124m'\u001b[39m\u001b[38;5;124mpositive number\u001b[39m\u001b[38;5;124m'\u001b[39m)\n\u001b[0;32m      3\u001b[0m \u001b[38;5;28;01melse\u001b[39;00m:\n",
      "\u001b[1;31mNameError\u001b[0m: name 'n' is not defined"
     ]
    }
   ],
   "source": [
    "if n>0:\n",
    "    print('positive number')\n",
    "else:\n",
    "    print('negative numbers')"
   ]
  },
  {
   "cell_type": "code",
   "execution_count": null,
   "id": "1538192c-785c-4bed-86fe-f144a4761450",
   "metadata": {},
   "outputs": [],
   "source": [
    "if 100>0:\n",
    "    print('positive number')\n",
    "else:\n",
    "    print('negative numbers')\n",
    "\n",
    "####################################\n",
    "# hard coded:\n",
    "n=100\n",
    "if n>0:\n",
    "    print('positive number')\n",
    "else:\n",
    "    print('negative number')\n",
    "####################################\n",
    "# user input\n",
    "n=eval(input('enter the number:'))\n",
    "if n>0:\n",
    "    print('positive number')\n",
    "else:\n",
    "    print('negative number')\n",
    "##############################\n",
    "# using random values:\n",
    "import random\n",
    "n=random.randint(-100,100)\n",
    "if n>0:\n",
    "    print(f'{n} is a positive number')\n",
    "else:\n",
    "    print(f'{n} is a negative number')\n"
   ]
  },
  {
   "cell_type": "code",
   "execution_count": 20,
   "id": "b5178263-2d57-44cd-848d-ccdb28eaa706",
   "metadata": {},
   "outputs": [
    {
     "name": "stdout",
     "output_type": "stream",
     "text": [
      "hello\n",
      "positive number\n",
      "condition is True\n"
     ]
    }
   ],
   "source": [
    "print('hello')\n",
    "if 100>0:\n",
    "    print('positive number')\n",
    "    print('condition is True')\n",
    "else:\n",
    "    print('negative number')\n",
    "    print('condition is False')\n"
   ]
  },
  {
   "cell_type": "code",
   "execution_count": 24,
   "id": "301ce16b-6a53-421b-8c21-c5a14004605b",
   "metadata": {},
   "outputs": [
    {
     "name": "stdout",
     "output_type": "stream",
     "text": [
      "hello\n",
      "negative number\n",
      "condition is False\n"
     ]
    }
   ],
   "source": [
    "print('hello')\n",
    "if 100<0:\n",
    "    print('positive number')\n",
    "    print('condition is True')\n",
    "else:\n",
    "    print('negative number')\n",
    "    print('condition is False')\n",
    "# hello\n",
    "# if 100<0 F stop\n",
    "#else  negative number  f "
   ]
  },
  {
   "cell_type": "code",
   "execution_count": 26,
   "id": "4e2a6918-ccbb-488a-b7d6-378d2fe43cbb",
   "metadata": {},
   "outputs": [
    {
     "ename": "SyntaxError",
     "evalue": "invalid syntax (2379967797.py, line 6)",
     "output_type": "error",
     "traceback": [
      "\u001b[1;36m  Cell \u001b[1;32mIn[26], line 6\u001b[1;36m\u001b[0m\n\u001b[1;33m    else:\u001b[0m\n\u001b[1;37m    ^\u001b[0m\n\u001b[1;31mSyntaxError\u001b[0m\u001b[1;31m:\u001b[0m invalid syntax\n"
     ]
    }
   ],
   "source": [
    "print('hello')\n",
    "if 100>0:\n",
    "    print('positive number')\n",
    "    print('condition is True')\n",
    "print('why you are in the middle')\n",
    "else:\n",
    "    print('negative number')\n",
    "    print('condition is False')\n",
    "print('bye')\n",
    "\n",
    "## if-else should come together, if other print statements are there in between them,then error will come"
   ]
  },
  {
   "cell_type": "code",
   "execution_count": 40,
   "id": "77be190a-93d3-4b05-8b7b-d971a8b2c585",
   "metadata": {},
   "outputs": [
    {
     "name": "stdout",
     "output_type": "stream",
     "text": [
      "hello\n",
      "negative number\n",
      "condition is False\n",
      "bye\n"
     ]
    }
   ],
   "source": [
    "print('hello')\n",
    "if 100<0:\n",
    "    print('positive number')\n",
    "    print('condition is True')\n",
    "else:\n",
    "    print('negative number')\n",
    "    print('condition is False')\n",
    "print('bye')"
   ]
  },
  {
   "cell_type": "code",
   "execution_count": 44,
   "id": "8744d929-7a8b-4856-a20d-a4acf87b1072",
   "metadata": {},
   "outputs": [
    {
     "name": "stdout",
     "output_type": "stream",
     "text": [
      "hello\n",
      "positive number\n",
      "condition is True\n"
     ]
    }
   ],
   "source": [
    "print('hello')\n",
    "if 100>0:\n",
    "    print('positive number')\n",
    "    print('condition is True')\n",
    "else:\n",
    "    print('negative number')\n",
    "    print('condition is False')\n"
   ]
  },
  {
   "cell_type": "code",
   "execution_count": 46,
   "id": "331eb72d-7df6-490b-b8b3-64c7141c3eee",
   "metadata": {},
   "outputs": [
    {
     "name": "stdout",
     "output_type": "stream",
     "text": [
      "hai sis\n",
      "iam busy\n"
     ]
    }
   ],
   "source": [
    "print('hai sis')\n",
    "if 45>89:\n",
    "    print('iam free')\n",
    "else:\n",
    "    print('iam busy')"
   ]
  },
  {
   "cell_type": "code",
   "execution_count": 48,
   "id": "b9773d5a-3c54-4d24-90bc-99983af1549b",
   "metadata": {},
   "outputs": [
    {
     "name": "stdin",
     "output_type": "stream",
     "text": [
      "enter number1: 85\n",
      "enter number2: 96\n"
     ]
    },
    {
     "name": "stdout",
     "output_type": "stream",
     "text": [
      "n2 is a greatest number\n"
     ]
    }
   ],
   "source": [
    "# 1) wap ask the user enter two numbers\n",
    "# find the greatest number\n",
    "\n",
    "\n",
    "\n",
    "# idea\n",
    "# n1=eval(input())\n",
    "#n2=eval(input())\n",
    "# if <>:\n",
    "#print()\n",
    "# else:\n",
    "# print()\n",
    "\n",
    "\n",
    "n1=eval(input('enter number1:'))\n",
    "n2=eval(input('enter number2:'))\n",
    "if n1>n2:\n",
    "    print('n1 is a greatest number')\n",
    "else:\n",
    "    print('n2 is a greatest number')"
   ]
  },
  {
   "cell_type": "code",
   "execution_count": 50,
   "id": "da45bf7d-9335-4f20-99ac-c8d245da6805",
   "metadata": {},
   "outputs": [
    {
     "name": "stdin",
     "output_type": "stream",
     "text": [
      "enter number1: 52\n",
      "enter number2: 48\n"
     ]
    },
    {
     "name": "stdout",
     "output_type": "stream",
     "text": [
      "52 is a greatest number\n"
     ]
    }
   ],
   "source": [
    "n1=eval(input('enter number1:'))\n",
    "n2=eval(input('enter number2:'))\n",
    "if n1>n2:\n",
    "    print(f'{n1} is a greatest number')\n",
    "else:\n",
    "    print(f'{n2} is a greatest number')"
   ]
  },
  {
   "cell_type": "code",
   "execution_count": 61,
   "id": "dd4db650-331f-4349-a694-9e56334c2bc5",
   "metadata": {},
   "outputs": [
    {
     "name": "stdout",
     "output_type": "stream",
     "text": [
      "n1:32 is a greatest number\n"
     ]
    }
   ],
   "source": [
    "import random\n",
    "n1=random.randint(1,50)\n",
    "n2=random.randint(1,50)\n",
    "if n1>n2:\n",
    "    print(f'n1:{n1} is a greatest number')\n",
    "else:\n",
    "    print(f'n2:{n2} is a greatest number')"
   ]
  },
  {
   "cell_type": "code",
   "execution_count": 81,
   "id": "32b40ff1-120d-45d2-bd73-78ddbb92b9dd",
   "metadata": {},
   "outputs": [
    {
     "name": "stdin",
     "output_type": "stream",
     "text": [
      "enter the distance 85\n",
      "charge per km is: 26\n"
     ]
    },
    {
     "name": "stdout",
     "output_type": "stream",
     "text": [
      "charge per km is :26\n",
      "total charge is: 2210\n"
     ]
    }
   ],
   "source": [
    "# 2)wap ask the user enter distance\n",
    "# if distance greater than 25km\n",
    "# then ask charge per km\n",
    "# then calculate total charge\n",
    "# otherwise print free ride\n",
    "\n",
    "# step-1: enter the distance\n",
    "# step-2: if dist>25\n",
    "# step-3: ask the charge\n",
    "# step-4: calculate the total charge\n",
    "# step-5: else\n",
    "# step-6: free ride\n",
    "\n",
    "dist=eval(input('enter the distance'))\n",
    "if dist>25:\n",
    "    cpm=eval(input(\"charge per km is:\"))\n",
    "    total=dist*cpm\n",
    "    print(f\"charge per km is :{cpm}\")\n",
    "    print(f'total charge is: {total}')\n",
    "else:\n",
    "    print('free ride')\n",
    "    \n",
    "    "
   ]
  },
  {
   "cell_type": "code",
   "execution_count": 83,
   "id": "1b955461-f6d6-4817-9793-0415f267090b",
   "metadata": {},
   "outputs": [
    {
     "name": "stdin",
     "output_type": "stream",
     "text": [
      "enter the distance 26\n",
      "charge per km is: 10\n"
     ]
    },
    {
     "name": "stdout",
     "output_type": "stream",
     "text": [
      "total charge is: 10\n"
     ]
    }
   ],
   "source": [
    "# 3)wap ask the user enter distance:50km\n",
    "# enter the free_distance(assume that 25km)\n",
    "# if distance greater than 25km\n",
    "    # then ask charge per km\n",
    "    # distance_covered=distance-free_distance : 50-25=25km\n",
    "    # then calculate total charge\n",
    "# otherwise print free ride\n",
    "\n",
    "# step-1: enter the distance\n",
    "# step-2: if dist>25\n",
    "# step-3: ask the charge\n",
    "# step-4: calculate the total charge\n",
    "# step-5: else\n",
    "# step-6: free ride\n",
    "\n",
    "\n",
    "\n",
    "dist=eval(input('enter the distance'))\n",
    "free_dist=25\n",
    "if dist>25:\n",
    "    cpm=eval(input(\"charge per km is:\"))\n",
    "    dist_covered=dist-free_dist\n",
    "    total=dist_covered*cpm\n",
    "    print(f'total charge is: {total}')\n",
    "else:\n",
    "    print('free ride')"
   ]
  },
  {
   "cell_type": "code",
   "execution_count": 89,
   "id": "dc28d709-38f7-4708-bafa-171d34d14986",
   "metadata": {},
   "outputs": [
    {
     "name": "stdin",
     "output_type": "stream",
     "text": [
      "enter the travel distance in km: 30\n",
      "enter the free distance in km: 10\n",
      "charge per km is: 10\n"
     ]
    },
    {
     "name": "stdout",
     "output_type": "stream",
     "text": [
      "total charge is: 200\n"
     ]
    }
   ],
   "source": [
    "travel_dist=eval(input('enter the travel distance in km:'))\n",
    "free_dist=eval(input('enter the free distance in km:'))\n",
    "if travel_dist>free_dist:\n",
    "    actual_dist=travel_dist-free_dist\n",
    "    cpm=eval(input(\"charge per km is:\"))\n",
    "    total=actual_dist*cpm\n",
    "    print(f'total charge is: {total}')\n",
    "else:\n",
    "    print('free ride')"
   ]
  },
  {
   "cell_type": "code",
   "execution_count": 4,
   "id": "3f36a3a8-f317-4351-9495-228765176caf",
   "metadata": {},
   "outputs": [
    {
     "name": "stdin",
     "output_type": "stream",
     "text": [
      "enter the travel distance in km: 5\n",
      "enter the free distance in km: 10\n",
      "charge per km is: 6\n"
     ]
    },
    {
     "name": "stdout",
     "output_type": "stream",
     "text": [
      "total charge is: -30\n"
     ]
    }
   ],
   "source": [
    "travel_dist=eval(input('enter the travel distance in km:'))\n",
    "free_dist=eval(input('enter the free distance in km:'))\n",
    "if travel_dist>free_dist:\n",
    "    print('free ride')\n",
    "else:\n",
    "    actual_dist=travel_dist-free_dist\n",
    "    cpm=eval(input(\"charge per km is:\"))\n",
    "    total=actual_dist*cpm\n",
    "    print(f'total charge is: {total}')\n",
    "   "
   ]
  },
  {
   "cell_type": "code",
   "execution_count": 87,
   "id": "a25e1b22-bddc-4a07-b886-9cfddc87bafc",
   "metadata": {},
   "outputs": [
    {
     "name": "stdin",
     "output_type": "stream",
     "text": [
      "enter number1: 25\n"
     ]
    },
    {
     "name": "stdout",
     "output_type": "stream",
     "text": [
      "number2 is : 7\n",
      "you lost\n"
     ]
    }
   ],
   "source": [
    "# 4)wap ask the user enter a number from keyboard n1\n",
    "# ask the user get a random number between 1,10  n2\n",
    "# if n1=n2 print you won\n",
    "# otherwise print you lost\n",
    "\n",
    "import random\n",
    "n1=eval(input('enter number1:'))\n",
    "n2=random.randint(1,10)\n",
    "print(f\"number2 is : {n2}\")\n",
    "if n1==n2:\n",
    "    print('you won')\n",
    "else:\n",
    "    print('you lost')"
   ]
  },
  {
   "cell_type": "code",
   "execution_count": 91,
   "id": "63b2f398-f5e3-4247-a18d-8b8496a4a542",
   "metadata": {},
   "outputs": [
    {
     "name": "stdin",
     "output_type": "stream",
     "text": [
      "enter the course name: datascience\n",
      "enter institute name: nareshit\n"
     ]
    },
    {
     "name": "stdout",
     "output_type": "stream",
     "text": [
      "you are safe\n"
     ]
    }
   ],
   "source": [
    "# 5)course name=data science\n",
    "# institute name=naresh it\n",
    " \n",
    "# ask the user enter course name\n",
    "# ask user inst name\n",
    "# if coursename=data science and inst name=nareshit\n",
    "# then print you are at safe place\n",
    "# otherwise\n",
    "# print \n",
    "\n",
    "\n",
    "#step-1: coursename=input()\n",
    "#step-2: inst name=input()\n",
    "#step-3: if course name=\"data science \" and inst name='nareshit'\n",
    "#step-4: print('u are at safe place')\n",
    "#step-5: else\n",
    "#step-6: pruint('not safe')\n",
    "\n",
    "\n",
    "course_name=input(\"enter the course name:\")\n",
    "inst_name=input(\"enter institute name:\")\n",
    "if course_name=='datascience' and inst_name=='nareshit':\n",
    "    print('you are safe')\n",
    "else:\n",
    "    print('you are not safe')\n"
   ]
  },
  {
   "cell_type": "code",
   "execution_count": 95,
   "id": "89cae677-b494-43b4-927e-9bf99fdcc46e",
   "metadata": {},
   "outputs": [
    {
     "name": "stdin",
     "output_type": "stream",
     "text": [
      "enter the course name: Datascience\n",
      "enter institute name: Nareshit\n"
     ]
    },
    {
     "name": "stdout",
     "output_type": "stream",
     "text": [
      "you are not safe\n"
     ]
    }
   ],
   "source": [
    "course_name=input(\"enter the course name:\")\n",
    "inst_name=input(\"enter institute name:\")\n",
    "if course_name=='datascience' or inst_name=='nareshit':\n",
    "    print('you are safe')\n",
    "else:\n",
    "    print('you are not safe')\n"
   ]
  },
  {
   "cell_type": "code",
   "execution_count": 111,
   "id": "760ba01e-dfb4-4262-b5a2-743a6cb7c7ac",
   "metadata": {},
   "outputs": [
    {
     "name": "stdin",
     "output_type": "stream",
     "text": [
      "enter a number: 32\n"
     ]
    },
    {
     "name": "stdout",
     "output_type": "stream",
     "text": [
      "32 is an even number\n"
     ]
    }
   ],
   "source": [
    "# 6)even-odd\n",
    "# ask the user enter a number\n",
    "# print if it is even number or odd number\n",
    "\n",
    "# idea: if any number divided by 2 then it gives\n",
    "# the remainder equal to zero then it is even number\n",
    "\n",
    "num=eval(input('enter a number:'))\n",
    "if num%2==0:\n",
    "    print(f\"{num} is an even number\")\n",
    "else:\n",
    "    print(f\"{num} is an odd number\")\n"
   ]
  },
  {
   "cell_type": "code",
   "execution_count": null,
   "id": "a8261841-07ea-44bf-a4cc-88109d1e96c6",
   "metadata": {},
   "outputs": [],
   "source": [
    "modulus: %\n",
    "division: /\n",
    "floor division: //"
   ]
  },
  {
   "cell_type": "code",
   "execution_count": 97,
   "id": "855126b1-25d2-4421-9baf-40401376dd22",
   "metadata": {},
   "outputs": [
    {
     "data": {
      "text/plain": [
       "1"
      ]
     },
     "execution_count": 97,
     "metadata": {},
     "output_type": "execute_result"
    }
   ],
   "source": [
    "11%2   # remainder"
   ]
  },
  {
   "cell_type": "code",
   "execution_count": 99,
   "id": "6d88fd2f-7606-45bb-a321-b6ac80df1f04",
   "metadata": {},
   "outputs": [
    {
     "data": {
      "text/plain": [
       "5.5"
      ]
     },
     "execution_count": 99,
     "metadata": {},
     "output_type": "execute_result"
    }
   ],
   "source": [
    "11/2    # normal division"
   ]
  },
  {
   "cell_type": "code",
   "execution_count": 103,
   "id": "3b75dc61-b38a-485a-92bb-1c2fc399e77c",
   "metadata": {},
   "outputs": [
    {
     "data": {
      "text/plain": [
       "5"
      ]
     },
     "execution_count": 103,
     "metadata": {},
     "output_type": "execute_result"
    }
   ],
   "source": [
    "11//2    # quotient"
   ]
  },
  {
   "cell_type": "code",
   "execution_count": null,
   "id": "d3a2f83d-5a4f-41d0-bf28-0db721d2a207",
   "metadata": {},
   "outputs": [],
   "source": []
  }
 ],
 "metadata": {
  "kernelspec": {
   "display_name": "Python [conda env:base] *",
   "language": "python",
   "name": "conda-base-py"
  },
  "language_info": {
   "codemirror_mode": {
    "name": "ipython",
    "version": 3
   },
   "file_extension": ".py",
   "mimetype": "text/x-python",
   "name": "python",
   "nbconvert_exporter": "python",
   "pygments_lexer": "ipython3",
   "version": "3.12.7"
  }
 },
 "nbformat": 4,
 "nbformat_minor": 5
}
