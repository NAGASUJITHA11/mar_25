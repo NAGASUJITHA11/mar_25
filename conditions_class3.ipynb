{
 "cells": [
  {
   "cell_type": "markdown",
   "id": "17028805-482b-4e40-90b9-66c4e2087233",
   "metadata": {},
   "source": [
    "**if-elif-else**\n",
    "\n",
    "    - whenever we have multiple conditions we will do **if-elif-else**\n",
    "    - if single condition is there we will go if-else\n",
    "        - two answers\n",
    "        - if needs condition then else does not require any condition\n",
    "    - if two conditions are there we will go if-elif-else\n",
    "        - three answers\n",
    "        - if and elif need condition else does not require any condition\n",
    "    - if threee conditions are there we will go if-elif-elif-else\n",
    "        - four answers\n",
    "        - if, elif and elif need condition and else does not require any condition\n"
   ]
  },
  {
   "cell_type": "code",
   "execution_count": null,
   "id": "4346a514-0800-4e56-8e5e-3bd28f102682",
   "metadata": {},
   "outputs": [],
   "source": [
    "if <condition>:\n",
    "    <write your code here>\n",
    "elif <condition>:\n",
    "    <write your code here>\n",
    "elif <condition>:\n",
    "    <write your code here>\n",
    "else:\n",
    "    <write your code here>\n"
   ]
  },
  {
   "cell_type": "code",
   "execution_count": 4,
   "id": "5374cb67-0f18-4e67-8ed5-64e58fb0dcb5",
   "metadata": {},
   "outputs": [
    {
     "name": "stdin",
     "output_type": "stream",
     "text": [
      "enter a number: 5\n"
     ]
    },
    {
     "name": "stdout",
     "output_type": "stream",
     "text": [
      "enter a valid number\n"
     ]
    }
   ],
   "source": [
    "# wap ask the user enter a number\n",
    "# if number equal to one then print one\n",
    "# if number equal to two print two\n",
    "# if number equal to three print three\n",
    "# otherwisw print enter a valid number\n",
    "\n",
    "num=eval(input(\"enter a number:\"))\n",
    "if num==1:\n",
    "    print(f'number is: one')\n",
    "elif num==2:\n",
    "    print(f'number is : two')\n",
    "elif num==3:\n",
    "    print(f\"number is three\")\n",
    "else:\n",
    "    print('enter a valid number')\n",
    "\n",
    "# num=2\n"
   ]
  },
  {
   "cell_type": "code",
   "execution_count": 40,
   "id": "af5a1087-945a-429c-9d8b-4d945cc5d8a9",
   "metadata": {},
   "outputs": [
    {
     "name": "stdin",
     "output_type": "stream",
     "text": [
      "enter the percentage of marks: 32\n"
     ]
    },
    {
     "name": "stdout",
     "output_type": "stream",
     "text": [
      "Fail\n"
     ]
    }
   ],
   "source": [
    "# wap ask the user enter percentage of marks\n",
    "# if marks greater than 90 then print A grade\n",
    "# if marks between 70 to 90 then print B grade\n",
    "# if marks between 50 to 70 then print C grade\n",
    "# if marks between 35 to 50 then print D grade\n",
    "# otherwise print Fail\n",
    "\n",
    "import random\n",
    "pom=eval(input(\"enter the percentage of marks:\"))\n",
    "if pom>90:\n",
    "    print('A grade')\n",
    "elif pom>70 and pom<=90:\n",
    "    print('B grade')\n",
    "elif pom>50 and pom<=70:\n",
    "    print('C grade')\n",
    "elif pom>35 and pom<=50:\n",
    "    print('D grade')\n",
    "else:\n",
    "    print('Fail')\n"
   ]
  },
  {
   "cell_type": "code",
   "execution_count": 42,
   "id": "17c9e3e4-d4f0-456a-9fa1-d20d7efab2d1",
   "metadata": {},
   "outputs": [
    {
     "name": "stdin",
     "output_type": "stream",
     "text": [
      "enter the percentage of marks: 80\n"
     ]
    },
    {
     "name": "stdout",
     "output_type": "stream",
     "text": [
      "B grade\n"
     ]
    }
   ],
   "source": [
    "import random\n",
    "pom=eval(input(\"enter the percentage of marks:\"))\n",
    "if pom>=90:\n",
    "    print('A grade')\n",
    "elif pom>=70:\n",
    "    print('B grade')\n",
    "elif pom>=50:\n",
    "    print('C grade')\n",
    "elif pom>=35:\n",
    "    print('D grade')\n",
    "else:\n",
    "    print('Fail')\n",
    "\n",
    "\n",
    "# step-1: per=75\n",
    "#cif 75>90  False\n",
    "# elif 75>=70  true"
   ]
  },
  {
   "cell_type": "code",
   "execution_count": 44,
   "id": "47177008-e3ce-4da4-b0a9-7fc2b6627d7c",
   "metadata": {},
   "outputs": [
    {
     "data": {
      "text/plain": [
       "True"
      ]
     },
     "execution_count": 44,
     "metadata": {},
     "output_type": "execute_result"
    }
   ],
   "source": [
    "70<90"
   ]
  },
  {
   "cell_type": "code",
   "execution_count": 46,
   "id": "7895e01f-3107-4966-ad43-6a07164e4748",
   "metadata": {},
   "outputs": [
    {
     "data": {
      "text/plain": [
       "True"
      ]
     },
     "execution_count": 46,
     "metadata": {},
     "output_type": "execute_result"
    }
   ],
   "source": [
    "70<80<90\n"
   ]
  },
  {
   "cell_type": "code",
   "execution_count": 48,
   "id": "4ceed576-f1c3-45e6-8613-338cf2a0cc6e",
   "metadata": {},
   "outputs": [
    {
     "data": {
      "text/plain": [
       "False"
      ]
     },
     "execution_count": 48,
     "metadata": {},
     "output_type": "execute_result"
    }
   ],
   "source": [
    "70<80>90"
   ]
  },
  {
   "cell_type": "code",
   "execution_count": null,
   "id": "b12d5881-f839-4658-8d70-e8bd58c7fc1e",
   "metadata": {},
   "outputs": [],
   "source": [
    "if-elif\n",
    "\n",
    "\n",
    "if fails ======== elif\n",
    "\n",
    "\n",
    "if-if\n",
    "if fail or pass ======== if"
   ]
  },
  {
   "cell_type": "code",
   "execution_count": 50,
   "id": "7e455da2-d15e-4349-b31a-744455a39323",
   "metadata": {},
   "outputs": [
    {
     "name": "stdin",
     "output_type": "stream",
     "text": [
      "enter the percentage of marks: 90\n"
     ]
    },
    {
     "name": "stdout",
     "output_type": "stream",
     "text": [
      "A grade\n",
      "B grade\n"
     ]
    }
   ],
   "source": [
    "pom=eval(input(\"enter the percentage of marks:\"))\n",
    "if pom>=90:\n",
    "    print('A grade')\n",
    "if pom>=70:\n",
    "    print('B grade')\n",
    "elif pom>=50:\n",
    "    print('C grade')\n",
    "elif pom>=35:\n",
    "    print('D grade')\n",
    "else:\n",
    "    print('Fail')\n",
    "\n"
   ]
  },
  {
   "cell_type": "code",
   "execution_count": 52,
   "id": "59b28987-8d5e-4cc7-b039-69b31216121d",
   "metadata": {},
   "outputs": [
    {
     "name": "stdin",
     "output_type": "stream",
     "text": [
      "enter the percentage of marks: 86\n"
     ]
    },
    {
     "name": "stdout",
     "output_type": "stream",
     "text": [
      "B grade\n"
     ]
    }
   ],
   "source": [
    "pom=eval(input(\"enter the percentage of marks:\"))\n",
    "if pom>=90:\n",
    "    print('A grade')\n",
    "if pom>=70:\n",
    "    print('B grade')\n",
    "elif pom>=50:\n",
    "    print('C grade')\n",
    "elif pom>=35:\n",
    "    print('D grade')\n",
    "else:\n",
    "    print('Fail')\n",
    "\n"
   ]
  },
  {
   "cell_type": "code",
   "execution_count": 62,
   "id": "33c83e50-c43c-4be7-8e12-5c1944d686e2",
   "metadata": {},
   "outputs": [
    {
     "name": "stdin",
     "output_type": "stream",
     "text": [
      "enter the age: 58\n"
     ]
    },
    {
     "name": "stdout",
     "output_type": "stream",
     "text": [
      "middle age\n"
     ]
    }
   ],
   "source": [
    "# wap ask the user enter age\n",
    "# if age greater than 100 years unlucky\n",
    "# if age between 80 to 100 years oldman\n",
    "# if age between 60 to 80 print ss\n",
    "# if age between 40 to 60 print MA\n",
    "# if age between 20 to 40 print young\n",
    "# if age between 10 to 20 print teenage\n",
    "#otherwise print kid\n",
    "\n",
    "age=eval(input(\"enter the age:\"))\n",
    "if age>100:\n",
    "    print('unlucky person')\n",
    "elif age>=80:\n",
    "    print('old man')\n",
    "elif age>=60:\n",
    "    print('senior citizen')\n",
    "elif age>=40:\n",
    "    print('middle age')\n",
    "elif age>=20:\n",
    "    print('young')\n",
    "elif age>=10:\n",
    "    print('teenage')\n",
    "else:\n",
    "    print('kid')\n",
    "\n"
   ]
  },
  {
   "cell_type": "code",
   "execution_count": 76,
   "id": "aa95ef3f-8a82-47d9-a30f-9347e4f52e63",
   "metadata": {},
   "outputs": [
    {
     "name": "stdin",
     "output_type": "stream",
     "text": [
      "enter the gender: female\n",
      "enter age: 45\n"
     ]
    },
    {
     "name": "stdout",
     "output_type": "stream",
     "text": [
      "middleaged woman\n"
     ]
    }
   ],
   "source": [
    "# wap ask the user enter gender\n",
    "\n",
    "# if gender= male\n",
    "#    ask the user enter age\n",
    "#    if age>60 then pprint ss\n",
    "#    if age between 30 to 60 then print middleaged man\n",
    "#    if age between 15 to 30 then print youngman\n",
    "#    otherwise print boy\n",
    "\n",
    "# if gender= female\n",
    "#    ask the user enter age\n",
    "#    if age>60 then pprint ss\n",
    "#    if age between 30 to 60 then print middleaged man\n",
    "#    if age between 15 to 30 then print younggirl\n",
    "#    otherwise print girl\n",
    "#else:\n",
    "#    print enter a valid gender\n",
    "\n",
    "\n",
    "gender=input('enter the gender:')\n",
    "if gender=='male':\n",
    "    age=eval(input('enter age:'))\n",
    "    if age>60:\n",
    "        print('Senior citizen')\n",
    "    elif age>=30:\n",
    "        print('middleaged man')\n",
    "    elif age>=15:\n",
    "        print('young man')\n",
    "    else:\n",
    "        print('boy')\n",
    "elif gender=='female':\n",
    "    age=eval(input('enter age:'))\n",
    "    if age>60:\n",
    "        print('Senior citizen')\n",
    "    elif age>=30:\n",
    "        print('middleaged woman')\n",
    "    elif age>=15:\n",
    "        print('young girl')\n",
    "    else:\n",
    "        print('girl')\n",
    "else:\n",
    "    print('enter a valid gender')\n"
   ]
  },
  {
   "cell_type": "code",
   "execution_count": 82,
   "id": "f721e722-007b-4e2f-9eff-84a21184d9e4",
   "metadata": {},
   "outputs": [
    {
     "name": "stdin",
     "output_type": "stream",
     "text": [
      "enter a number: -23\n"
     ]
    },
    {
     "name": "stdout",
     "output_type": "stream",
     "text": [
      "negative number\n"
     ]
    }
   ],
   "source": [
    "# wap ask the user enter a number\n",
    "# if num>=0\n",
    "#    if num>0 then print positive\n",
    "#     otherwise print 0\n",
    "#else print neg num\n",
    "\n",
    "\n",
    "num=eval(input('enter a number:'))\n",
    "if num>=0:\n",
    "    if num>0:\n",
    "        print('positive number')\n",
    "    else:\n",
    "        print('zero')\n",
    "else:\n",
    "    print('negative number')"
   ]
  },
  {
   "cell_type": "code",
   "execution_count": 92,
   "id": "4be8c8f6-d672-4fae-81db-54680972953c",
   "metadata": {},
   "outputs": [
    {
     "name": "stdout",
     "output_type": "stream",
     "text": [
      "enter number1 for addition\n",
      "enter number2 for subtraction\n",
      "enter number3 for multiplication\n",
      "enter number4 for division\n"
     ]
    },
    {
     "name": "stdin",
     "output_type": "stream",
     "text": [
      "enter a number for operation: 4\n",
      "enter num1: 100\n",
      "enter num2: 3\n"
     ]
    },
    {
     "name": "stdout",
     "output_type": "stream",
     "text": [
      "34\n"
     ]
    }
   ],
   "source": [
    "# print some statemnets like below\n",
    "# enter 1 for addition\n",
    "# enter 2 for subtraction\n",
    "# enter 3 for mult\n",
    "# enter 4 for div\n",
    "\n",
    "# wap ask the user enter number between 1 to 4\n",
    "# if operation==1\n",
    "#    n1=eval()\n",
    "#    n2=eval()\n",
    "#    add=n1+n2\n",
    "#    print(add)\n",
    "\n",
    "# elif poe==2\n",
    "#    sub\n",
    "# elif  ope==3\n",
    "#    mul\n",
    "#elif   ope==4\n",
    "#    div\n",
    "#else: enter a valid\n",
    "\n",
    "\n",
    "import math\n",
    "print('enter number1 for addition')\n",
    "print('enter number2 for subtraction')\n",
    "print('enter number3 for multiplication')\n",
    "print('enter number4 for division')\n",
    "ope=eval(input(\"enter a number for operation:\"))\n",
    "if ope==1:\n",
    "    n1=eval(input('enter num1:'))\n",
    "    n2=eval(input('enter num2:'))\n",
    "    add=n1+n2\n",
    "    print(add)\n",
    "elif ope==2:\n",
    "    n1=eval(input('enter num1:'))\n",
    "    n2=eval(input('enter num2:'))\n",
    "    sub=n1-n2\n",
    "    print(sub)\n",
    "elif ope==3:\n",
    "    n1=eval(input('enter num1:'))\n",
    "    n2=eval(input('enter num2:'))\n",
    "    mul=n1*n2\n",
    "    print(mul)\n",
    "elif ope==4:\n",
    "    n1=eval(input('enter num1:'))\n",
    "    n2=eval(input('enter num2:'))\n",
    "    div=math.ceil(n1/n2)\n",
    "    print(div)\n",
    "else:\n",
    "    print('incorrect operation')\n",
    "\n",
    "\n"
   ]
  },
  {
   "cell_type": "code",
   "execution_count": null,
   "id": "9b3a1350-05d6-43d7-8b5a-e4dd6fde2023",
   "metadata": {},
   "outputs": [],
   "source": []
  }
 ],
 "metadata": {
  "kernelspec": {
   "display_name": "Python [conda env:base] *",
   "language": "python",
   "name": "conda-base-py"
  },
  "language_info": {
   "codemirror_mode": {
    "name": "ipython",
    "version": 3
   },
   "file_extension": ".py",
   "mimetype": "text/x-python",
   "name": "python",
   "nbconvert_exporter": "python",
   "pygments_lexer": "ipython3",
   "version": "3.12.7"
  }
 },
 "nbformat": 4,
 "nbformat_minor": 5
}
